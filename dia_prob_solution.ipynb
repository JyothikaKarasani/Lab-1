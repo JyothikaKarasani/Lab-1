{
  "nbformat": 4,
  "nbformat_minor": 0,
  "metadata": {
    "colab": {
      "provenance": []
    },
    "kernelspec": {
      "name": "python3",
      "display_name": "Python 3"
    },
    "language_info": {
      "name": "python"
    }
  },
  "cells": [
    {
      "cell_type": "code",
      "source": [
        "message = input()   #taking the message input\n",
        "count = 1  #initiating the count variable\n",
        "\n",
        "for i in range(1, len(message)):\n",
        "\n",
        "\n",
        "    if message[i] != message[i-1]:\n",
        "        print(message[i-1],end=\"\")\n",
        "        if count > 1:\n",
        "            print(count,end=\"\")\n",
        "        count = 1\n",
        "    else:\n",
        "        count+= 1\n",
        "\n",
        "\n",
        "\n",
        "    if i == len(message)-1:\n",
        "        print(message[i],end=\"\")\n",
        "        if count > 1:\n",
        "            print(count,end=\"\")\n",
        "\n",
        ""
      ],
      "metadata": {
        "colab": {
          "base_uri": "https://localhost:8080/"
        },
        "id": "rtNsIm0S49ji",
        "outputId": "44271f02-648b-4429-ef12-b5f249d54800"
      },
      "execution_count": 22,
      "outputs": [
        {
          "output_type": "stream",
          "name": "stdout",
          "text": [
            "abccddee\n",
            "abc2d2e2"
          ]
        }
      ]
    }
  ]
}